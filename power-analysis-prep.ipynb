{
 "cells": [
  {
   "cell_type": "markdown",
   "metadata": {},
   "source": [
    "# Load Libraries"
   ]
  },
  {
   "cell_type": "code",
   "execution_count": 96,
   "metadata": {},
   "outputs": [],
   "source": [
    "options(\"scipen\"=9, \"digits\"=4)\n",
    "#library(dplyr)\n",
    "library(MASS) # includes rnegbin for generating negative binomial distributions\n",
    "library(ggplot2)\n",
    "library(rlang)\n",
    "library(corrplot)\n",
    "library(Hmisc)\n",
    "library(tidyverse)\n",
    "library(viridis)\n",
    "library(fabricatr)\n",
    "library(DeclareDesign)\n",
    "library(gmodels)\n",
    "library(glmmTMB)\n",
    "\n",
    "## Installed DeclareDesign 0.13 using the following command:\n",
    "# install.packages(\"DeclareDesign\", dependencies = TRUE,\n",
    "#                 repos = c(\"http://R.declaredesign.org\", \"https://cloud.r-project.org\"))\n",
    "#options(repr.plot.width=7, repr.plot.height=4)\n"
   ]
  },
  {
   "cell_type": "code",
   "execution_count": 97,
   "metadata": {},
   "outputs": [],
   "source": [
    "## Integer acquired from London Integers\n",
    "## https://londonintegers.com/int/40107429\n",
    "set.seed(40107429)\n",
    "\n",
    "\n",
    "config.df <- data.frame(\n",
    "    pa.label = \"DMCA design\",\n",
    "    n.sample = 1000,\n",
    "    n.min = 14000,\n",
    "    n.max = 18000,\n",
    "    n.days = 46,\n",
    "    \n",
    "    effect.magnitude = -0.05, #assumption: treatment group tweets decrease by 5%\n",
    "    effect.slope   = -0.005 #assumption: treatment group tweets decrease by 0.5% per day\n",
    "\n",
    ")\n"
   ]
  },
  {
   "cell_type": "code",
   "execution_count": 98,
   "metadata": {},
   "outputs": [],
   "source": [
    "# data path \n",
    "\n",
    "data.path = \"~/DMCA-exploratory-code-and-data/data/\""
   ]
  },
  {
   "cell_type": "code",
   "execution_count": 99,
   "metadata": {},
   "outputs": [],
   "source": [
    "prepare.dataframe <- function(participant.days.df) {\n",
    "    participant.days.df$twitter_user_created_at <- as.Date(participant.days.df$twitter_user_created_at)\n",
    "    participant.days.df$notice_date <- as.Date(participant.days.df$notice_date)\n",
    "    participant.days.df[participant.days.df$user_suspended==\"\",]$user_suspended = \"False\"\n",
    "    participant.days.df$user_suspended_bin <- participant.days.df$user_suspended == \"True\"  \n",
    "    participant.prev.df <- subset(participant.days.df, day_num <= 0)\n",
    "    participant.post.df <- subset(participant.days.df, day_num > 0)\n",
    "    \n",
    "    ## ACCOUNT AGE AT NOTICE\n",
    "    participant.age.agg.df <- aggregate(participant.days.df[c('twitter_user_created_at', 'notice_date')], by=list(participant.days.df$twitter_user_id), FUN=min)\n",
    "    participant.age.agg.df$twitter_user_id <- participant.age.agg.df$Group.1\n",
    "    participant.age.agg.df$account.age.at.notice <- as.integer(difftime(\n",
    "        participant.age.agg.df$notice_date,\n",
    "        participant.age.agg.df$twitter_user_created_at, units=\"weeks\"))\n",
    "    participant.days.df <- merge(participant.days.df, participant.age.agg.df[c(\"twitter_user_id\", \"account.age.at.notice\")], by=\"twitter_user_id\")    \n",
    "    \n",
    "    ## HOW MANY PREVIOUS TWEETS (USED TO REMOVE ACCOUNTS WITH MORE THAN 3200 TWEETS BEFORE SAMPLE)\n",
    "    ## > 3200 SHOULD BE IMPOSSIBLE, ACCORDING TO TWITTER API DOCUMENTATION\n",
    "    participant.prev.df <- subset(participant.days.df, day_num <= 0)\n",
    "    participant.prev.agg.df <- aggregate(participant.prev.df[c('num_tweets')], by=list(participant.prev.df$twitter_user_id), FUN=sum)\n",
    "    participant.prev.agg.df$twitter_user_id <- participant.prev.agg.df$Group.1\n",
    "\n",
    "    print(paste(\"Among \", nrow(participant.prev.agg.df), \" participants, \",\n",
    "                nrow(subset(participant.prev.agg.df, num_tweets>3200)), \n",
    "                \" have over 3200 tweets before the lumen notice. Removing.\", sep=\"\"))\n",
    "    print(summary(subset(participant.prev.agg.df, num_tweets>3200)$num_tweets))\n",
    "    \n",
    "    print(paste(\"Among \", nrow(participant.prev.agg.df), \" participants, \",\n",
    "                nrow(subset(participant.prev.agg.df, num_tweets==0)), \n",
    "                \" have 0 tweets before the lumen notice. Removing.\", sep=\"\"))\n",
    "\n",
    "    ## Identify accounts to trim, including high volume accounts and ones that were suspended\n",
    "    high.volume.accounts.to.trim <- subset(participant.prev.agg.df, num_tweets >= 3200)$twitter_user_id\n",
    "    low.volume.accounts.to.trim <- subset(participant.prev.agg.df, num_tweets < 0)$twitter_user_id\n",
    "    suspended.accounts.to.trim <- unique(subset(participant.days.df, user_suspended_bin==TRUE)$twitter_user_id)\n",
    "    #print(paste(length(suspended.accounts.to.trim), \"accounts were suspended after the notice. Removing.\"))\n",
    "    \n",
    "    ## Identify Num Notices Received and Trim if > 1\n",
    "    participant.num.notices.agg.df <- aggregate(participant.days.df[c('num_lumen_notices')], by=list(participant.days.df$twitter_user_id), FUN=sum)\n",
    "\n",
    "    multiple.notice.accounts.to.trim <- unique(subset(participant.num.notices.agg.df, num_lumen_notices>1)$Group.1)\n",
    "    #print(paste(length(multiple.notice.accounts.to.trim), \"accounts received more than one notice.\"))\n",
    "    \n",
    "    ## Trim non-en accounts\n",
    "    ## (since we're going to make a US freedom of expression argument)\n",
    "    non.en.accounts.to.trim <- unique(subset(participant.prev.df, language!=\"en\")$twitter_user_id)\n",
    "    print(paste(length(non.en.accounts.to.trim), \"accounts were UK English\"))\n",
    "    \n",
    "    ## Create Trimmed Dataframe\n",
    "    p.days.trimmed.df <- subset(participant.days.df, \n",
    "                                !(twitter_user_id %in% high.volume.accounts.to.trim) &\n",
    "                                !(twitter_user_id %in% low.volume.accounts.to.trim) &\n",
    "                                # !(twitter_user_id %in% suspended.accounts.to.trim) &\n",
    "                                # !(twitter_user_id %in% multiple.notice.accounts.to.trim) &\n",
    "                                !(twitter_user_id %in% non.en.accounts.to.trim))\n",
    "    \n",
    "    ## Year / Month Information\n",
    "    p.days.trimmed.df$twitter.user.yearmonth <- format(as.Date(p.days.trimmed.df$twitter_user_created_at), \"%Y-%m\")\n",
    "    p.days.trimmed.df$twitter.user.year <- format(as.Date(p.days.trimmed.df$twitter_user_created_at), \"%Y\")\n",
    "    \n",
    "    ## Notice Date\n",
    "    p.days.trimmed.df$notice.yearmonthday <- format(as.Date(p.days.trimmed.df$notice_date), \"%Y-%m-%d\")\n",
    "\n",
    "    \n",
    "    p.days.trimmed.df$time.period <- \"NOTICE\" #NOTICE, BEFORE, AFTER\n",
    "    p.days.trimmed.df[p.days.trimmed.df$day_num <0,]$time.period <- \"BEFORE\"\n",
    "    p.days.trimmed.df[p.days.trimmed.df$day_num >0,]$time.period <- \"AFTER\"\n",
    "    p.days.trimmed.df$after <- as.integer(p.days.trimmed.df$time.period==\"AFTER\")\n",
    "    p.days.trimmed.df$week.num <- p.days.trimmed.df$day_num/7\n",
    "\n",
    "    p.days.trimmed.df$day.of.week <- factor(format(as.Date(p.days.trimmed.df$date), \"%A\"))\n",
    "    p.days.trimmed.df$weekend <- p.days.trimmed.df$day.of.week %in% c(\"Sunday\", \"Saturday\")\n",
    "    \n",
    "    p.days.trimmed.df\n",
    "}"
   ]
  },
  {
   "cell_type": "code",
   "execution_count": 100,
   "metadata": {},
   "outputs": [
    {
     "name": "stdout",
     "output_type": "stream",
     "text": [
      "[1] \"Among 3297 participants, 29 have over 3200 tweets before the lumen notice. Removing.\"\n",
      "   Min. 1st Qu.  Median    Mean 3rd Qu.    Max. \n",
      "   3206    3217    3312    3402    3435    4532 \n",
      "[1] \"Among 3297 participants, 290 have 0 tweets before the lumen notice. Removing.\"\n",
      "[1] \"41 accounts were UK English\"\n"
     ]
    }
   ],
   "source": [
    "## Load Exploratory and Confirmatory Dataframes\n",
    "exp.filename = \"longitudinal_dmca_train.csv\"\n",
    "exp.df <- prepare.dataframe(read.csv(file.path(data.path, exp.filename)))\n",
    "\n",
    "exp.df$X <- ifelse(exp.df$day_num < 0, 0, 1)\n",
    "exp.df <- subset(exp.df, day_num != 0)"
   ]
  },
  {
   "cell_type": "code",
   "execution_count": 101,
   "metadata": {},
   "outputs": [
    {
     "name": "stdout",
     "output_type": "stream",
     "text": [
      "Error in fitdistr(subset(exp.df, (twitter_user_id == i))$num_tweets, \"Negative Binomial\") : \n",
      "  optimization failed\n",
      "Error in fitdistr(subset(exp.df, (twitter_user_id == i))$num_tweets, \"Negative Binomial\") : \n",
      "  optimization failed\n",
      "Error in fitdistr(subset(exp.df, (twitter_user_id == i))$num_tweets, \"Negative Binomial\") : \n",
      "  optimization failed\n",
      "Error in fitdistr(subset(exp.df, (twitter_user_id == i))$num_tweets, \"Negative Binomial\") : \n",
      "  optimization failed\n",
      "Error in fitdistr(subset(exp.df, (twitter_user_id == i))$num_tweets, \"Negative Binomial\") : \n",
      "  optimization failed\n",
      "Error in fitdistr(subset(exp.df, (twitter_user_id == i))$num_tweets, \"Negative Binomial\") : \n",
      "  optimization failed\n"
     ]
    },
    {
     "data": {
      "text/html": [
       "<table class=\"dataframe\">\n",
       "<caption>A data.frame: 2965 × 3</caption>\n",
       "<thead>\n",
       "\t<tr><th scope=col>y.mu</th><th scope=col>y.theta</th><th scope=col>twitter_user_id</th></tr>\n",
       "\t<tr><th scope=col>&lt;dbl&gt;</th><th scope=col>&lt;dbl&gt;</th><th scope=col>&lt;dbl&gt;</th></tr>\n",
       "</thead>\n",
       "<tbody>\n",
       "\t<tr><td> 3.12779</td><td>  1.8405</td><td>  624363</td></tr>\n",
       "\t<tr><td> 3.08510</td><td>  1.7136</td><td> 1076731</td></tr>\n",
       "\t<tr><td> 1.91304</td><td>  2.0460</td><td> 2115801</td></tr>\n",
       "\t<tr><td>11.10870</td><td>  2.3995</td><td> 7216772</td></tr>\n",
       "\t<tr><td> 2.00000</td><td>  2.8214</td><td> 7275542</td></tr>\n",
       "\t<tr><td>12.40426</td><td>  2.0097</td><td>11892682</td></tr>\n",
       "\t<tr><td>31.27660</td><td>  1.7665</td><td>13808222</td></tr>\n",
       "\t<tr><td>23.06522</td><td>  1.4527</td><td>13857342</td></tr>\n",
       "\t<tr><td> 6.43478</td><td>  3.0575</td><td>14072382</td></tr>\n",
       "\t<tr><td> 0.71739</td><td>  0.4449</td><td>14271118</td></tr>\n",
       "\t<tr><td> 8.52174</td><td>  4.3702</td><td>14358672</td></tr>\n",
       "\t<tr><td>54.43478</td><td>  4.4623</td><td>14376391</td></tr>\n",
       "\t<tr><td> 4.63046</td><td>  7.0916</td><td>14585098</td></tr>\n",
       "\t<tr><td> 5.82978</td><td> 39.4903</td><td>14626584</td></tr>\n",
       "\t<tr><td>16.72340</td><td>  4.7885</td><td>14726765</td></tr>\n",
       "\t<tr><td> 0.36175</td><td>  0.2298</td><td>15332511</td></tr>\n",
       "\t<tr><td>10.15217</td><td>  0.6757</td><td>15346011</td></tr>\n",
       "\t<tr><td> 0.04255</td><td>100.0000</td><td>15417741</td></tr>\n",
       "\t<tr><td>18.91304</td><td>  4.3678</td><td>15698286</td></tr>\n",
       "\t<tr><td> 6.74469</td><td>  4.6282</td><td>15804863</td></tr>\n",
       "\t<tr><td> 9.42553</td><td>  2.8377</td><td>16091319</td></tr>\n",
       "\t<tr><td> 8.52174</td><td>  1.1876</td><td>16315545</td></tr>\n",
       "\t<tr><td>14.65957</td><td>  7.9426</td><td>16490001</td></tr>\n",
       "\t<tr><td>18.15217</td><td>  2.3640</td><td>17535550</td></tr>\n",
       "\t<tr><td> 2.52157</td><td>  1.5715</td><td>17717509</td></tr>\n",
       "\t<tr><td> 6.13043</td><td>  2.3174</td><td>17822968</td></tr>\n",
       "\t<tr><td>10.23913</td><td>  2.1549</td><td>17910668</td></tr>\n",
       "\t<tr><td> 1.91303</td><td>  2.8025</td><td>18060122</td></tr>\n",
       "\t<tr><td> 5.67388</td><td> 23.6635</td><td>18347062</td></tr>\n",
       "\t<tr><td>12.00000</td><td>  1.4720</td><td>18378093</td></tr>\n",
       "\t<tr><td>⋮</td><td>⋮</td><td>⋮</td></tr>\n",
       "\t<tr><td> 0.10870</td><td>100.00000</td><td>1.087e+18</td></tr>\n",
       "\t<tr><td> 1.06383</td><td>  0.02314</td><td>1.087e+18</td></tr>\n",
       "\t<tr><td> 4.41304</td><td>  0.03560</td><td>1.087e+18</td></tr>\n",
       "\t<tr><td> 1.55316</td><td>  0.30451</td><td>1.087e+18</td></tr>\n",
       "\t<tr><td>56.72340</td><td>  0.41813</td><td>1.087e+18</td></tr>\n",
       "\t<tr><td> 0.89131</td><td>  0.09421</td><td>1.088e+18</td></tr>\n",
       "\t<tr><td>24.46552</td><td>  0.33797</td><td>1.088e+18</td></tr>\n",
       "\t<tr><td> 0.13334</td><td>  0.03034</td><td>1.088e+18</td></tr>\n",
       "\t<tr><td>40.39130</td><td>  0.47735</td><td>1.088e+18</td></tr>\n",
       "\t<tr><td>40.50000</td><td>  0.21724</td><td>1.088e+18</td></tr>\n",
       "\t<tr><td> 2.19565</td><td>  0.37304</td><td>1.089e+18</td></tr>\n",
       "\t<tr><td> 0.08694</td><td>  0.14305</td><td>1.089e+18</td></tr>\n",
       "\t<tr><td> 5.17391</td><td>  0.41606</td><td>1.089e+18</td></tr>\n",
       "\t<tr><td> 0.84285</td><td>  0.03237</td><td>1.090e+18</td></tr>\n",
       "\t<tr><td> 2.47826</td><td>  0.76162</td><td>1.090e+18</td></tr>\n",
       "\t<tr><td> 0.58696</td><td>  0.02020</td><td>1.090e+18</td></tr>\n",
       "\t<tr><td> 0.15218</td><td>  0.23041</td><td>1.090e+18</td></tr>\n",
       "\t<tr><td> 0.61702</td><td>  0.09246</td><td>1.091e+18</td></tr>\n",
       "\t<tr><td> 5.68000</td><td>  0.29666</td><td>1.091e+18</td></tr>\n",
       "\t<tr><td> 2.56522</td><td>  0.13701</td><td>1.091e+18</td></tr>\n",
       "\t<tr><td> 0.02128</td><td>100.00000</td><td>1.091e+18</td></tr>\n",
       "\t<tr><td> 2.80851</td><td>  0.36570</td><td>1.092e+18</td></tr>\n",
       "\t<tr><td> 9.84615</td><td>  0.22614</td><td>1.092e+18</td></tr>\n",
       "\t<tr><td> 0.14894</td><td>  0.88416</td><td>1.092e+18</td></tr>\n",
       "\t<tr><td> 0.21738</td><td>  0.01727</td><td>1.092e+18</td></tr>\n",
       "\t<tr><td> 0.02174</td><td>100.00000</td><td>1.093e+18</td></tr>\n",
       "\t<tr><td> 0.74001</td><td>  0.06064</td><td>1.093e+18</td></tr>\n",
       "\t<tr><td>51.21739</td><td>  0.19611</td><td>1.094e+18</td></tr>\n",
       "\t<tr><td> 0.06523</td><td>  0.01182</td><td>1.095e+18</td></tr>\n",
       "\t<tr><td> 0.11112</td><td>  0.04931</td><td>1.095e+18</td></tr>\n",
       "</tbody>\n",
       "</table>\n"
      ],
      "text/latex": [
       "A data.frame: 2965 × 3\n",
       "\\begin{tabular}{lll}\n",
       " y.mu & y.theta & twitter\\_user\\_id\\\\\n",
       " <dbl> & <dbl> & <dbl>\\\\\n",
       "\\hline\n",
       "\t  3.12779 &   1.8405 &   624363\\\\\n",
       "\t  3.08510 &   1.7136 &  1076731\\\\\n",
       "\t  1.91304 &   2.0460 &  2115801\\\\\n",
       "\t 11.10870 &   2.3995 &  7216772\\\\\n",
       "\t  2.00000 &   2.8214 &  7275542\\\\\n",
       "\t 12.40426 &   2.0097 & 11892682\\\\\n",
       "\t 31.27660 &   1.7665 & 13808222\\\\\n",
       "\t 23.06522 &   1.4527 & 13857342\\\\\n",
       "\t  6.43478 &   3.0575 & 14072382\\\\\n",
       "\t  0.71739 &   0.4449 & 14271118\\\\\n",
       "\t  8.52174 &   4.3702 & 14358672\\\\\n",
       "\t 54.43478 &   4.4623 & 14376391\\\\\n",
       "\t  4.63046 &   7.0916 & 14585098\\\\\n",
       "\t  5.82978 &  39.4903 & 14626584\\\\\n",
       "\t 16.72340 &   4.7885 & 14726765\\\\\n",
       "\t  0.36175 &   0.2298 & 15332511\\\\\n",
       "\t 10.15217 &   0.6757 & 15346011\\\\\n",
       "\t  0.04255 & 100.0000 & 15417741\\\\\n",
       "\t 18.91304 &   4.3678 & 15698286\\\\\n",
       "\t  6.74469 &   4.6282 & 15804863\\\\\n",
       "\t  9.42553 &   2.8377 & 16091319\\\\\n",
       "\t  8.52174 &   1.1876 & 16315545\\\\\n",
       "\t 14.65957 &   7.9426 & 16490001\\\\\n",
       "\t 18.15217 &   2.3640 & 17535550\\\\\n",
       "\t  2.52157 &   1.5715 & 17717509\\\\\n",
       "\t  6.13043 &   2.3174 & 17822968\\\\\n",
       "\t 10.23913 &   2.1549 & 17910668\\\\\n",
       "\t  1.91303 &   2.8025 & 18060122\\\\\n",
       "\t  5.67388 &  23.6635 & 18347062\\\\\n",
       "\t 12.00000 &   1.4720 & 18378093\\\\\n",
       "\t ⋮ & ⋮ & ⋮\\\\\n",
       "\t  0.10870 & 100.00000 & 1.087e+18\\\\\n",
       "\t  1.06383 &   0.02314 & 1.087e+18\\\\\n",
       "\t  4.41304 &   0.03560 & 1.087e+18\\\\\n",
       "\t  1.55316 &   0.30451 & 1.087e+18\\\\\n",
       "\t 56.72340 &   0.41813 & 1.087e+18\\\\\n",
       "\t  0.89131 &   0.09421 & 1.088e+18\\\\\n",
       "\t 24.46552 &   0.33797 & 1.088e+18\\\\\n",
       "\t  0.13334 &   0.03034 & 1.088e+18\\\\\n",
       "\t 40.39130 &   0.47735 & 1.088e+18\\\\\n",
       "\t 40.50000 &   0.21724 & 1.088e+18\\\\\n",
       "\t  2.19565 &   0.37304 & 1.089e+18\\\\\n",
       "\t  0.08694 &   0.14305 & 1.089e+18\\\\\n",
       "\t  5.17391 &   0.41606 & 1.089e+18\\\\\n",
       "\t  0.84285 &   0.03237 & 1.090e+18\\\\\n",
       "\t  2.47826 &   0.76162 & 1.090e+18\\\\\n",
       "\t  0.58696 &   0.02020 & 1.090e+18\\\\\n",
       "\t  0.15218 &   0.23041 & 1.090e+18\\\\\n",
       "\t  0.61702 &   0.09246 & 1.091e+18\\\\\n",
       "\t  5.68000 &   0.29666 & 1.091e+18\\\\\n",
       "\t  2.56522 &   0.13701 & 1.091e+18\\\\\n",
       "\t  0.02128 & 100.00000 & 1.091e+18\\\\\n",
       "\t  2.80851 &   0.36570 & 1.092e+18\\\\\n",
       "\t  9.84615 &   0.22614 & 1.092e+18\\\\\n",
       "\t  0.14894 &   0.88416 & 1.092e+18\\\\\n",
       "\t  0.21738 &   0.01727 & 1.092e+18\\\\\n",
       "\t  0.02174 & 100.00000 & 1.093e+18\\\\\n",
       "\t  0.74001 &   0.06064 & 1.093e+18\\\\\n",
       "\t 51.21739 &   0.19611 & 1.094e+18\\\\\n",
       "\t  0.06523 &   0.01182 & 1.095e+18\\\\\n",
       "\t  0.11112 &   0.04931 & 1.095e+18\\\\\n",
       "\\end{tabular}\n"
      ],
      "text/markdown": [
       "\n",
       "A data.frame: 2965 × 3\n",
       "\n",
       "| y.mu &lt;dbl&gt; | y.theta &lt;dbl&gt; | twitter_user_id &lt;dbl&gt; |\n",
       "|---|---|---|\n",
       "|  3.12779 |   1.8405 |   624363 |\n",
       "|  3.08510 |   1.7136 |  1076731 |\n",
       "|  1.91304 |   2.0460 |  2115801 |\n",
       "| 11.10870 |   2.3995 |  7216772 |\n",
       "|  2.00000 |   2.8214 |  7275542 |\n",
       "| 12.40426 |   2.0097 | 11892682 |\n",
       "| 31.27660 |   1.7665 | 13808222 |\n",
       "| 23.06522 |   1.4527 | 13857342 |\n",
       "|  6.43478 |   3.0575 | 14072382 |\n",
       "|  0.71739 |   0.4449 | 14271118 |\n",
       "|  8.52174 |   4.3702 | 14358672 |\n",
       "| 54.43478 |   4.4623 | 14376391 |\n",
       "|  4.63046 |   7.0916 | 14585098 |\n",
       "|  5.82978 |  39.4903 | 14626584 |\n",
       "| 16.72340 |   4.7885 | 14726765 |\n",
       "|  0.36175 |   0.2298 | 15332511 |\n",
       "| 10.15217 |   0.6757 | 15346011 |\n",
       "|  0.04255 | 100.0000 | 15417741 |\n",
       "| 18.91304 |   4.3678 | 15698286 |\n",
       "|  6.74469 |   4.6282 | 15804863 |\n",
       "|  9.42553 |   2.8377 | 16091319 |\n",
       "|  8.52174 |   1.1876 | 16315545 |\n",
       "| 14.65957 |   7.9426 | 16490001 |\n",
       "| 18.15217 |   2.3640 | 17535550 |\n",
       "|  2.52157 |   1.5715 | 17717509 |\n",
       "|  6.13043 |   2.3174 | 17822968 |\n",
       "| 10.23913 |   2.1549 | 17910668 |\n",
       "|  1.91303 |   2.8025 | 18060122 |\n",
       "|  5.67388 |  23.6635 | 18347062 |\n",
       "| 12.00000 |   1.4720 | 18378093 |\n",
       "| ⋮ | ⋮ | ⋮ |\n",
       "|  0.10870 | 100.00000 | 1.087e+18 |\n",
       "|  1.06383 |   0.02314 | 1.087e+18 |\n",
       "|  4.41304 |   0.03560 | 1.087e+18 |\n",
       "|  1.55316 |   0.30451 | 1.087e+18 |\n",
       "| 56.72340 |   0.41813 | 1.087e+18 |\n",
       "|  0.89131 |   0.09421 | 1.088e+18 |\n",
       "| 24.46552 |   0.33797 | 1.088e+18 |\n",
       "|  0.13334 |   0.03034 | 1.088e+18 |\n",
       "| 40.39130 |   0.47735 | 1.088e+18 |\n",
       "| 40.50000 |   0.21724 | 1.088e+18 |\n",
       "|  2.19565 |   0.37304 | 1.089e+18 |\n",
       "|  0.08694 |   0.14305 | 1.089e+18 |\n",
       "|  5.17391 |   0.41606 | 1.089e+18 |\n",
       "|  0.84285 |   0.03237 | 1.090e+18 |\n",
       "|  2.47826 |   0.76162 | 1.090e+18 |\n",
       "|  0.58696 |   0.02020 | 1.090e+18 |\n",
       "|  0.15218 |   0.23041 | 1.090e+18 |\n",
       "|  0.61702 |   0.09246 | 1.091e+18 |\n",
       "|  5.68000 |   0.29666 | 1.091e+18 |\n",
       "|  2.56522 |   0.13701 | 1.091e+18 |\n",
       "|  0.02128 | 100.00000 | 1.091e+18 |\n",
       "|  2.80851 |   0.36570 | 1.092e+18 |\n",
       "|  9.84615 |   0.22614 | 1.092e+18 |\n",
       "|  0.14894 |   0.88416 | 1.092e+18 |\n",
       "|  0.21738 |   0.01727 | 1.092e+18 |\n",
       "|  0.02174 | 100.00000 | 1.093e+18 |\n",
       "|  0.74001 |   0.06064 | 1.093e+18 |\n",
       "| 51.21739 |   0.19611 | 1.094e+18 |\n",
       "|  0.06523 |   0.01182 | 1.095e+18 |\n",
       "|  0.11112 |   0.04931 | 1.095e+18 |\n",
       "\n"
      ],
      "text/plain": [
       "     y.mu     y.theta   twitter_user_id\n",
       "1     3.12779   1.8405    624363       \n",
       "2     3.08510   1.7136   1076731       \n",
       "3     1.91304   2.0460   2115801       \n",
       "4    11.10870   2.3995   7216772       \n",
       "5     2.00000   2.8214   7275542       \n",
       "6    12.40426   2.0097  11892682       \n",
       "7    31.27660   1.7665  13808222       \n",
       "8    23.06522   1.4527  13857342       \n",
       "9     6.43478   3.0575  14072382       \n",
       "10    0.71739   0.4449  14271118       \n",
       "11    8.52174   4.3702  14358672       \n",
       "12   54.43478   4.4623  14376391       \n",
       "13    4.63046   7.0916  14585098       \n",
       "14    5.82978  39.4903  14626584       \n",
       "15   16.72340   4.7885  14726765       \n",
       "16    0.36175   0.2298  15332511       \n",
       "17   10.15217   0.6757  15346011       \n",
       "18    0.04255 100.0000  15417741       \n",
       "19   18.91304   4.3678  15698286       \n",
       "20    6.74469   4.6282  15804863       \n",
       "21    9.42553   2.8377  16091319       \n",
       "22    8.52174   1.1876  16315545       \n",
       "23   14.65957   7.9426  16490001       \n",
       "24   18.15217   2.3640  17535550       \n",
       "25    2.52157   1.5715  17717509       \n",
       "26    6.13043   2.3174  17822968       \n",
       "27   10.23913   2.1549  17910668       \n",
       "28    1.91303   2.8025  18060122       \n",
       "29    5.67388  23.6635  18347062       \n",
       "30   12.00000   1.4720  18378093       \n",
       "⋮    ⋮        ⋮         ⋮              \n",
       "2936  0.10870 100.00000 1.087e+18      \n",
       "2937  1.06383   0.02314 1.087e+18      \n",
       "2938  4.41304   0.03560 1.087e+18      \n",
       "2939  1.55316   0.30451 1.087e+18      \n",
       "2940 56.72340   0.41813 1.087e+18      \n",
       "2941  0.89131   0.09421 1.088e+18      \n",
       "2942 24.46552   0.33797 1.088e+18      \n",
       "2943  0.13334   0.03034 1.088e+18      \n",
       "2944 40.39130   0.47735 1.088e+18      \n",
       "2945 40.50000   0.21724 1.088e+18      \n",
       "2946  2.19565   0.37304 1.089e+18      \n",
       "2947  0.08694   0.14305 1.089e+18      \n",
       "2948  5.17391   0.41606 1.089e+18      \n",
       "2949  0.84285   0.03237 1.090e+18      \n",
       "2950  2.47826   0.76162 1.090e+18      \n",
       "2951  0.58696   0.02020 1.090e+18      \n",
       "2952  0.15218   0.23041 1.090e+18      \n",
       "2953  0.61702   0.09246 1.091e+18      \n",
       "2954  5.68000   0.29666 1.091e+18      \n",
       "2955  2.56522   0.13701 1.091e+18      \n",
       "2956  0.02128 100.00000 1.091e+18      \n",
       "2957  2.80851   0.36570 1.092e+18      \n",
       "2958  9.84615   0.22614 1.092e+18      \n",
       "2959  0.14894   0.88416 1.092e+18      \n",
       "2960  0.21738   0.01727 1.092e+18      \n",
       "2961  0.02174 100.00000 1.093e+18      \n",
       "2962  0.74001   0.06064 1.093e+18      \n",
       "2963 51.21739   0.19611 1.094e+18      \n",
       "2964  0.06523   0.01182 1.095e+18      \n",
       "2965  0.11112   0.04931 1.095e+18      "
      ]
     },
     "metadata": {},
     "output_type": "display_data"
    }
   ],
   "source": [
    "# fit negbin for each individual in the sample (some are dropped if the function fails to find a fit)\n",
    "\n",
    "sample.tweet.mu.df = list()\n",
    "\n",
    "for(i in unique(exp.df$twitter_user_id)){\n",
    "    \n",
    "    \n",
    "    if (all(subset(exp.df,(twitter_user_id==i))$num_tweets == 0)){}\n",
    "    else{\n",
    "    \n",
    "    suppressWarnings(try(sample.tweet.dist <- fitdistr(subset(exp.df,(twitter_user_id==i))$num_tweets, \"Negative Binomial\")))\n",
    "    sample.tweet.mu.df <- rbind(sample.tweet.mu.df, data.frame(\n",
    "        y.mu = sample.tweet.dist$estimate[['mu']],\n",
    "        y.theta = sample.tweet.dist$estimate[['size']],\n",
    "        twitter_user_id = i\n",
    "    \n",
    "    ))\n",
    "    \n",
    "    }\n",
    "    \n",
    "}\n",
    "\n",
    "sample.tweet.mu.df"
   ]
  },
  {
   "cell_type": "code",
   "execution_count": 102,
   "metadata": {},
   "outputs": [
    {
     "data": {
      "image/png": "[encoded data removed]",
      "text/plain": [
       "Plot with title “Histogram of sample.tweet.mu.df$y.mu”"
      ]
     },
     "metadata": {
      "image/png": {
       "height": 240,
       "width": 420
      }
     },
     "output_type": "display_data"
    },
    {
     "data": {
      "image/png": "[encoded data removed]",
      "text/plain": [
       "Plot with title “Histogram of sample.tweet.mu.df$y.theta”"
      ]
     },
     "metadata": {
      "image/png": {
       "height": 240,
       "width": 420
      }
     },
     "output_type": "display_data"
    }
   ],
   "source": [
    "hist(sample.tweet.mu.df$y.mu)\n",
    "hist(sample.tweet.mu.df$y.theta)"
   ]
  },
  {
   "cell_type": "code",
   "execution_count": 103,
   "metadata": {},
   "outputs": [
    {
     "data": {
      "text/html": [
       "3227"
      ],
      "text/latex": [
       "3227"
      ],
      "text/markdown": [
       "3227"
      ],
      "text/plain": [
       "[1] 3227"
      ]
     },
     "metadata": {},
     "output_type": "display_data"
    },
    {
     "data": {
      "text/html": [
       "2965"
      ],
      "text/latex": [
       "2965"
      ],
      "text/markdown": [
       "2965"
      ],
      "text/plain": [
       "[1] 2965"
      ]
     },
     "metadata": {},
     "output_type": "display_data"
    }
   ],
   "source": [
    "length(unique(exp.df$twitter_user_id))\n",
    "nrow(sample.tweet.mu.df)"
   ]
  },
  {
   "cell_type": "code",
   "execution_count": 104,
   "metadata": {},
   "outputs": [
    {
     "data": {
      "text/html": [
       "139247"
      ],
      "text/latex": [
       "139247"
      ],
      "text/markdown": [
       "139247"
      ],
      "text/plain": [
       "[1] 139247"
      ]
     },
     "metadata": {},
     "output_type": "display_data"
    },
    {
     "data": {
      "text/html": [
       "152242"
      ],
      "text/latex": [
       "152242"
      ],
      "text/markdown": [
       "152242"
      ],
      "text/plain": [
       "[1] 152242"
      ]
     },
     "metadata": {},
     "output_type": "display_data"
    }
   ],
   "source": [
    "exp.df.mu <- merge(sample.tweet.mu.df, exp.df, by = \"twitter_user_id\")\n",
    "\n",
    "nrow(exp.df.mu)\n",
    "nrow(exp.df)\n",
    "\n",
    "exp.df.mu.dd <- exp.df.mu[!duplicated(exp.df.mu[c(\"twitter_user_id\",\"day_num\")]),]"
   ]
  },
  {
   "cell_type": "code",
   "execution_count": 105,
   "metadata": {},
   "outputs": [],
   "source": [
    "write.csv(exp.df.mu.dd,\"~/DMCA-exploratory-code-and-data/data/sim_df.csv\", row.names = FALSE)"
   ]
  }
 ],
 "metadata": {
  "kernelspec": {
   "display_name": "R",
   "language": "R",
   "name": "ir"
  },
  "language_info": {
   "codemirror_mode": "r",
   "file_extension": ".r",
   "mimetype": "text/x-r-source",
   "name": "R",
   "pygments_lexer": "r",
   "version": "4.1.2"
  }
 },
 "nbformat": 4,
 "nbformat_minor": 4
}
